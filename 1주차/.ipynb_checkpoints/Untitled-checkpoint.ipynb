{
 "cells": [
  {
   "cell_type": "markdown",
   "id": "a4804360",
   "metadata": {},
   "source": [
    "# 하이\n"
   ]
  },
  {
   "cell_type": "code",
   "execution_count": 1,
   "id": "5c906026",
   "metadata": {
    "scrolled": true
   },
   "outputs": [
    {
     "name": "stdout",
     "output_type": "stream",
     "text": [
      "  y\n",
      "1 a\n",
      "2 b\n"
     ]
    }
   ],
   "source": [
    "df <- data.frame(x = 1:3, y = c(\"a\", \"b\", \"c\"))\n",
    "#print(df[c(2)])\n",
    "print(subset(df, x < 3, select = c(y) ))\n",
    "print(R.version)"
   ]
  }
 ],
 "metadata": {
  "kernelspec": {
   "display_name": "R",
   "language": "R",
   "name": "ir"
  },
  "language_info": {
   "codemirror_mode": "r",
   "file_extension": ".r",
   "mimetype": "text/x-r-source",
   "name": "R",
   "pygments_lexer": "r",
   "version": "3.6.1"
  }
 },
 "nbformat": 4,
 "nbformat_minor": 5
}
